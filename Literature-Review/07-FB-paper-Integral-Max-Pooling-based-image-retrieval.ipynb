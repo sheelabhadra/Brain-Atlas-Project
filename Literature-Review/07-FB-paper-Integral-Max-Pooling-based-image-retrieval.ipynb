{
 "cells": [
  {
   "cell_type": "markdown",
   "metadata": {},
   "source": [
    "## Particular Object Retrieval with Integral Max-Pooling of CNN Activations \n",
    "### Authors: Giorgos Tolias, Ronan Sicre, Hervé Jégou"
   ]
  },
  {
   "cell_type": "markdown",
   "metadata": {},
   "source": [
    "## $1^{st}$ Pass\n",
    "\n",
    "- **Category:** Image retrieval and ranking based on a query image\n",
    "\n",
    "- **Context:** \n",
    "    - Activations of fully connected layers are used as global descriptors followed by dimensionality reduction\n",
    "    - Activations of convolutional layers are used by\n",
    "        - stacking activations\n",
    "        - spatial max-pooling\n",
    "        - sum-pooling\n",
    "        \n",
    "- **Correctness:**\n",
    "    - CNN based representation with max-pooling extending the concept of integral images\n",
    "    - It encodes the maximum `local` response of each of the convolutional filters and is therefore translation\n",
    "    invariant\n",
    "    \n",
    "- **Contributions:**\n",
    "    - Compact image representation called R-MAC (Regional Maximum Activation of Convolutions) obtained from the convolutional layers\n",
    "    - R-MAC consists of finding short feature vectors of smaller regions in the images and combining them to form a single image vector  \n",
    "    - Finding R-MAC for all images in the database\n",
    "    - Using cosine similarity to find relevant images\n",
    "    \n",
    "- **Clarity:** Open source [Matlab](https://github.com/gtolias/rmac) and [Python](https://github.com/noagarcia/keras_rmac) implementations of R-MAC are available.\n"
   ]
  },
  {
   "cell_type": "markdown",
   "metadata": {},
   "source": [
    "**Need Clarification**\n",
    "- How the K-dimensional feature representation is created?\n",
    "- How the short features are generated for sub-regions of the image\n",
    "\n",
    "**Todo**\n",
    "- Understand the actual implementation from the codebase"
   ]
  },
  {
   "cell_type": "markdown",
   "metadata": {},
   "source": [
    "\n"
   ]
  }
 ],
 "metadata": {
  "kernelspec": {
   "display_name": "Python 3",
   "language": "python",
   "name": "python3"
  },
  "language_info": {
   "codemirror_mode": {
    "name": "ipython",
    "version": 3
   },
   "file_extension": ".py",
   "mimetype": "text/x-python",
   "name": "python",
   "nbconvert_exporter": "python",
   "pygments_lexer": "ipython3",
   "version": "3.5.4"
  },
  "widgets": {
   "state": {},
   "version": "1.1.2"
  }
 },
 "nbformat": 4,
 "nbformat_minor": 2
}
