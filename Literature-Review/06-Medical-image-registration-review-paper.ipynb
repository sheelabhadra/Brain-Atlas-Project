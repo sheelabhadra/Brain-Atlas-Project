{
 "cells": [
  {
   "cell_type": "markdown",
   "metadata": {},
   "source": [
    "## Medical image registration: a review\n",
    "### Authors: Francisco P.M. Oliveira, João Manuel R.S. Tavares"
   ]
  },
  {
   "cell_type": "markdown",
   "metadata": {},
   "source": [
    "**Global vs local registration:** A methodology is classified as global, if all voxels presented in the region of the interest (ROI) are used. On the other hand, it is classified as local, if only a part of the voxels in the ROI is used. Usually, the intensity-based methods are global and the feature-based methods are local."
   ]
  },
  {
   "cell_type": "markdown",
   "metadata": {},
   "source": [
    "Rid transformation and Affine non-rigid transformation is sometimes used as a pre-registration step. Most of the medical image registration are based on curved transformations. This is because most of the organs are deformable structures."
   ]
  },
  {
   "cell_type": "markdown",
   "metadata": {},
   "source": [
    "**We have been doing this through the MATLAB image processing toolbox**\n",
    ">The simplest curved transformations are based on polynomials of a degree superior to one, and, in a similar way to the affine transformations. Their implementation is very simple as they can be defined by a deformation matrix and a translation vector. However, these transformations are rarely used since they do not usually represent the real deformations involved in the medical images."
   ]
  },
  {
   "cell_type": "markdown",
   "metadata": {},
   "source": [
    "In many free-form deformation models, a grid of control points is defined in order to determine the deformation involved. The points of such a grid are moved individually in the direction that optimises the similarity measure, defining local deformations."
   ]
  },
  {
   "cell_type": "markdown",
   "metadata": {},
   "source": [
    "**Similarity metrics**\n",
    "- Voxel similarity (intensity)\n",
    "- Structure similarity\n",
    "- Cross-correlation\n",
    "- Residual complexity proposed by Myronenko and Song - more suitable for multi-modal images\n",
    "- Normal Mutual Information - information theory based - (check Pluim et al. (2003))"
   ]
  },
  {
   "cell_type": "markdown",
   "metadata": {},
   "source": [
    ">MI has proven to be a very robust and reliable similarity measure for intensity-based registration of multimodal images. "
   ]
  },
  {
   "cell_type": "markdown",
   "metadata": {},
   "source": [
    "**Conclusion**  \n",
    "In the last few years, the use of the intensity-based registration methods has grown considerably compared to the feature-based methods. The turning point came with the introduction of the MI as the similarity measure. Before this introduction, multimodal registration was done mainly on segmented images, since no intensity similarity measure had been proposed that could be generally and efficiently applied to multimodal registration."
   ]
  },
  {
   "cell_type": "code",
   "execution_count": null,
   "metadata": {},
   "outputs": [],
   "source": []
  }
 ],
 "metadata": {
  "kernelspec": {
   "display_name": "Python 3",
   "language": "python",
   "name": "python3"
  },
  "language_info": {
   "codemirror_mode": {
    "name": "ipython",
    "version": 3
   },
   "file_extension": ".py",
   "mimetype": "text/x-python",
   "name": "python",
   "nbconvert_exporter": "python",
   "pygments_lexer": "ipython3",
   "version": "3.5.4"
  },
  "widgets": {
   "state": {},
   "version": "1.1.2"
  }
 },
 "nbformat": 4,
 "nbformat_minor": 2
}
