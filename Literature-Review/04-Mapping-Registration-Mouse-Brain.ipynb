{
 "cells": [
  {
   "cell_type": "markdown",
   "metadata": {},
   "source": [
    "## Mapping Histological Slice Sequences to the Allen Mouse Brain Atlas Without 3D Reconstruction\n",
    "### Authors: Jing Xiong, Jing Ren, Liqun Luo and Mark Horowitz"
   ]
  },
  {
   "cell_type": "markdown",
   "metadata": {},
   "source": [
    "## $1^{st}$ Pass\n",
    "\n",
    "- **Category:** Localization and 2D registration of mouse brain images.\n",
    "- **Context:** HOG features can be used for similarity calculation and can account for minor deformations. Angle of cutting can be determined for getting a more accurate atlas.\n",
    "- **Correctness:** Assumptions:\n",
    "    - A candidate cutting angle will be provided at the start to reduce the search space.\n",
    "    - HOG features can handle minor deformations and can be used as a similarity metric.\n",
    "- **Contributions:**\n",
    "    - Finding the cutting angle and then applying the angle rotation to the atlas (perspective transformation).\n",
    "    - Using Markov Random Field (MRF) instead of HOG for similarity measurement in the registration step. MRF is differrentiable.\n",
    "    - Using bilinear model instead of B-spline for non-rigid deformation.\n",
    "    - Using Multi-level grid point placement for handling large and small deformations.\n",
    "    - Contour alignment for low contrast images. (Need to read the method in detail)\n",
    "    - Segmentation to better fit hollow regions in the brain images. (Need to understand this) \n",
    "- **Clarity:** Well written paper validated with experiments on histological slice images. Refers to a few other papers for implementation details."
   ]
  },
  {
   "cell_type": "markdown",
   "metadata": {},
   "source": [
    "### Key differences from our approach\n",
    "| Steps                  | This paper's approach   | Our approach              |\n",
    "| :------------------------: | :-------------------------: | :---------------------------: |\n",
    "| **Atlas matching** | HOG features-based for similarity measurement | Manual Control Point-based similarity measurement|\n",
    "| **Cutting angle determination** | Coarse search for cutting angle using DP | -------  |\n",
    "|                             | Finer search for cutting angle by splitting the images into upper and lower halves | ------- |\n",
    "| **2D Registration** | Bilear model based; similarity metric used is Markov Random Field; Multi-level grid control point placement for handle small deformations| Polynomial warping using the Control Points placed manually/using Harris and SIFT features|"
   ]
  },
  {
   "cell_type": "markdown",
   "metadata": {},
   "source": [
    "## $2^{nd}$ Pass\n",
    "\n",
    "Issues with using Normalized Mutual Information as a similarity metric:\n",
    "- Nisl images only highlight the cell body and their staining appears different from confocal microscope images\n",
    "- Man made descriptors might not work well because of variation in contrast, intensity, and noise\n",
    "- Metric should work well even in the presence of small distortions.\n",
    "\n",
    "HOG has the capability to deal with pose, illumination, and background variations which mimic many of the issues in brain slices images obtained from confocal microscopes."
   ]
  },
  {
   "cell_type": "code",
   "execution_count": null,
   "metadata": {},
   "outputs": [],
   "source": []
  },
  {
   "cell_type": "code",
   "execution_count": null,
   "metadata": {},
   "outputs": [],
   "source": []
  },
  {
   "cell_type": "code",
   "execution_count": null,
   "metadata": {},
   "outputs": [],
   "source": []
  }
 ],
 "metadata": {
  "kernelspec": {
   "display_name": "Python 3",
   "language": "python",
   "name": "python3"
  },
  "language_info": {
   "codemirror_mode": {
    "name": "ipython",
    "version": 3
   },
   "file_extension": ".py",
   "mimetype": "text/x-python",
   "name": "python",
   "nbconvert_exporter": "python",
   "pygments_lexer": "ipython3",
   "version": "3.5.4"
  },
  "widgets": {
   "state": {},
   "version": "1.1.2"
  }
 },
 "nbformat": 4,
 "nbformat_minor": 2
}
