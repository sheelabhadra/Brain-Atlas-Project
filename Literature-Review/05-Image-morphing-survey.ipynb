{
 "cells": [
  {
   "cell_type": "markdown",
   "metadata": {},
   "source": [
    "## Image morphing: a survey\n",
    "### Authors: George Wolberg"
   ]
  },
  {
   "cell_type": "markdown",
   "metadata": {},
   "source": [
    "### Mesh Warping vs Multilevel free-form deformation\n",
    "| Features                   | Mesh warping                    | MFFD                          |\n",
    "| :------------------------: | :-----------------------------: | :---------------------------: |\n",
    "| **Control Points**         | Intersection of grid lines      | Feature primitives are specified using `snakes`|\n",
    "\n",
    "`Snakes` are energy-minimizing splines that move under the influence of image and constraint forces. `Snakes` streamline feature specification because primitives must only be positioned near the features. Image forces push `snakes` toward salient edges, thereby refining their final positions and making it possible to capture the exact position of a feature easily and precisely."
   ]
  },
  {
   "cell_type": "markdown",
   "metadata": {},
   "source": [
    "### Work Minimization\n",
    "Registration of similar images based on image intensities (this might be difficult to achieve in our case)."
   ]
  },
  {
   "cell_type": "code",
   "execution_count": null,
   "metadata": {},
   "outputs": [],
   "source": []
  }
 ],
 "metadata": {
  "kernelspec": {
   "display_name": "Python 3",
   "language": "python",
   "name": "python3"
  },
  "language_info": {
   "codemirror_mode": {
    "name": "ipython",
    "version": 3
   },
   "file_extension": ".py",
   "mimetype": "text/x-python",
   "name": "python",
   "nbconvert_exporter": "python",
   "pygments_lexer": "ipython3",
   "version": "3.5.4"
  },
  "widgets": {
   "state": {},
   "version": "1.1.2"
  }
 },
 "nbformat": 4,
 "nbformat_minor": 2
}
